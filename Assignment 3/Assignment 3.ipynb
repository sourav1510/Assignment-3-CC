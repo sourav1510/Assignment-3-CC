{
 "cells": [
  {
   "cell_type": "code",
   "execution_count": 33,
   "metadata": {},
   "outputs": [
    {
     "name": "stdout",
     "output_type": "stream",
     "text": [
      "   Tid Refund MartialStatus TaxableIncome Cheat\n",
      "0    1    Yes        Single          125K    No\n",
      "1    2     No       Married          100K    No\n",
      "2    3     No        Single           70K    No\n",
      "3    4    Yes       Married          120K    No\n",
      "4    5     No      Divorced           95K   Yes\n",
      "5    6     No       Married           60K    No\n",
      "6    7    Yes      Divorced          220K    No\n",
      "7    8     No        Single           85K   Yes\n",
      "8    9     No       Married           75K    No\n",
      "9   10     No        Single           90K   Yes\n"
     ]
    }
   ],
   "source": [
    "import pandas as pd\n",
    "\n",
    "dataset = {\n",
    "    \"Tid\" : [1, 2, 3, 4, 5, 6, 7, 8, 9, 10],\n",
    "    \n",
    "    \"Refund\" : ['Yes', 'No', 'No', 'Yes', 'No', 'No', 'Yes', 'No', 'No', 'No'],\n",
    "    \"MartialStatus\" : ['Single', 'Married', 'Single', 'Married', 'Divorced', 'Married', 'Divorced', 'Single', 'Married', 'Single'],\n",
    "    \"TaxableIncome\" : ['125K', '100K', '70K', '120K', '95K', '60K', '220K', '85K', '75K', '90K'],\n",
    "    \"Cheat\" : ['No', 'No', 'No', 'No', 'Yes', 'No', 'No', 'Yes', 'No', 'Yes'],\n",
    "}\n",
    "\n",
    "ds = pd.DataFrame(dataset)\n",
    "print(ds)"
   ]
  },
  {
   "cell_type": "code",
   "execution_count": 34,
   "metadata": {},
   "outputs": [
    {
     "name": "stdout",
     "output_type": "stream",
     "text": [
      "   Tid Refund MartialStatus TaxableIncome Cheat\n",
      "0    1    Yes        Single          125K    No\n",
      "4    5     No      Divorced           95K   Yes\n",
      "7    8     No        Single           85K   Yes\n",
      "8    9     No       Married           75K    No\n"
     ]
    }
   ],
   "source": [
    "print(ds.iloc[[0, 4, 7, 8]])"
   ]
  },
  {
   "cell_type": "code",
   "execution_count": 35,
   "metadata": {},
   "outputs": [
    {
     "name": "stdout",
     "output_type": "stream",
     "text": [
      "Tid                   1\n",
      "Refund              Yes\n",
      "MartialStatus    Single\n",
      "TaxableIncome      125K\n",
      "Cheat                No\n",
      "Name: 0, dtype: object\n",
      "\n",
      "\n",
      "Tid                     5\n",
      "Refund                 No\n",
      "MartialStatus    Divorced\n",
      "TaxableIncome         95K\n",
      "Cheat                 Yes\n",
      "Name: 4, dtype: object\n",
      "\n",
      "\n",
      "Tid                   8\n",
      "Refund               No\n",
      "MartialStatus    Single\n",
      "TaxableIncome       85K\n",
      "Cheat               Yes\n",
      "Name: 7, dtype: object\n",
      "\n",
      "\n",
      "Tid                    9\n",
      "Refund                No\n",
      "MartialStatus    Married\n",
      "TaxableIncome        75K\n",
      "Cheat                 No\n",
      "Name: 8, dtype: object\n",
      "\n",
      "\n"
     ]
    }
   ],
   "source": [
    "print(ds.loc[0])\n",
    "print(\"\\n\")\n",
    "print(ds.loc[4])\n",
    "print(\"\\n\")\n",
    "print(ds.loc[7])\n",
    "print(\"\\n\")\n",
    "print(ds.loc[8])\n",
    "print(\"\\n\")"
   ]
  },
  {
   "cell_type": "code",
   "execution_count": 36,
   "metadata": {},
   "outputs": [
    {
     "name": "stdout",
     "output_type": "stream",
     "text": [
      "   Tid Refund MartialStatus TaxableIncome Cheat\n",
      "3    4    Yes       Married          120K    No\n",
      "4    5     No      Divorced           95K   Yes\n",
      "5    6     No       Married           60K    No\n",
      "6    7    Yes      Divorced          220K    No\n",
      "7    8     No        Single           85K   Yes\n"
     ]
    }
   ],
   "source": [
    "#  Select row from index 3 to 7\n",
    "\n",
    "print(ds.iloc[3:8])"
   ]
  },
  {
   "cell_type": "code",
   "execution_count": 37,
   "metadata": {},
   "outputs": [
    {
     "name": "stdout",
     "output_type": "stream",
     "text": [
      "  MartialStatus TaxableIncome\n",
      "4      Divorced           95K\n",
      "5       Married           60K\n",
      "6      Divorced          220K\n",
      "7        Single           85K\n"
     ]
    }
   ],
   "source": [
    "#Select row from index 4 to 8, and column 2 to 4\n",
    "# print(pd.iloc[rows_index, column_index])\n",
    "\n",
    "print(ds.iloc[4:8, 2:4]) "
   ]
  },
  {
   "cell_type": "code",
   "execution_count": 38,
   "metadata": {},
   "outputs": [
    {
     "name": "stdout",
     "output_type": "stream",
     "text": [
      "  Refund MartialStatus TaxableIncome\n",
      "0    Yes        Single          125K\n",
      "1     No       Married          100K\n",
      "2     No        Single           70K\n",
      "3    Yes       Married          120K\n",
      "4     No      Divorced           95K\n",
      "5     No       Married           60K\n",
      "6    Yes      Divorced          220K\n",
      "7     No        Single           85K\n",
      "8     No       Married           75K\n",
      "9     No        Single           90K\n"
     ]
    }
   ],
   "source": [
    "#Select all rows with column index 1 to 3 (include index 3 during selection). \n",
    "#To print all options use slice \":\"\n",
    "\n",
    "print(ds.iloc[:, 1:4])\n"
   ]
  },
  {
   "cell_type": "code",
   "execution_count": 57,
   "metadata": {},
   "outputs": [
    {
     "name": "stdout",
     "output_type": "stream",
     "text": [
      "   Id  SepalLengthCm  SepalWidthCm  PetalLengthCm  PetalWidthCm      Species\n",
      "0   1            5.1           3.5            1.4           0.2  Iris-setosa\n",
      "1   2            4.9           3.0            1.4           0.2  Iris-setosa\n",
      "2   3            4.7           3.2            1.3           0.2  Iris-setosa\n",
      "3   4            4.6           3.1            1.5           0.2  Iris-setosa\n",
      "4   5            5.0           3.6            1.4           0.2  Iris-setosa\n"
     ]
    }
   ],
   "source": [
    "# Read a csv file and display its first five rows\n",
    "\n",
    "#accesing a file directly from kaggle requires authentication, r is used to handle the backslashes \n",
    "csv_file = pd.read_csv(r'D:\\Users\\Rupam B\\Downloads/iris.csv')\n",
    "print(csv_file.head())"
   ]
  },
  {
   "cell_type": "code",
   "execution_count": null,
   "metadata": {},
   "outputs": [
    {
     "name": "stdout",
     "output_type": "stream",
     "text": [
      "   Id  SepalLengthCm  SepalWidthCm  PetalLengthCm  PetalWidthCm      Species\n",
      "0   1            5.1           3.5            1.4           0.2  Iris-setosa\n",
      "1   2            4.9           3.0            1.4           0.2  Iris-setosa\n",
      "2   3            4.7           3.2            1.3           0.2  Iris-setosa\n",
      "3   4            4.6           3.1            1.5           0.2  Iris-setosa\n",
      "4   5            5.0           3.6            1.4           0.2  Iris-setosa\n"
     ]
    }
   ],
   "source": [
    "# Read a csv file and display its first five rows\n",
    "\n",
    "#accesing a file directly from kaggle requires authentication, r is used to handle the backslashes \n",
    "csv_file = pd.read_csv(r'D:\\Users\\Rupam B\\Downloads/iris.csv')\n",
    "print(csv_file.head())"
   ]
  },
  {
   "cell_type": "code",
   "execution_count": 65,
   "metadata": {},
   "outputs": [
    {
     "name": "stdout",
     "output_type": "stream",
     "text": [
      "Before Modifying: \n",
      "   Id  SepalLengthCm  SepalWidthCm  PetalLengthCm  PetalWidthCm      Species\n",
      "0   1            5.1           3.5            1.4           0.2  Iris-setosa\n",
      "1   2            4.9           3.0            1.4           0.2  Iris-setosa\n",
      "2   3            4.7           3.2            1.3           0.2  Iris-setosa\n",
      "3   4            4.6           3.1            1.5           0.2  Iris-setosa\n",
      "4   5            5.0           3.6            1.4           0.2  Iris-setosa\n",
      "\n",
      "\n",
      "After Modifying: \n",
      "   Id  SepalLengthCm  PetalLengthCm  PetalWidthCm      Species\n",
      "0   1            5.1            1.4           0.2  Iris-setosa\n",
      "1   2            4.9            1.4           0.2  Iris-setosa\n",
      "2   3            4.7            1.3           0.2  Iris-setosa\n",
      "4   5            5.0            1.4           0.2  Iris-setosa\n",
      "5   6            5.4            1.7           0.4  Iris-setosa\n"
     ]
    }
   ],
   "source": [
    "# From the csv file (uploaded in the Q.4) delete row 4, and delete column 3\n",
    "\n",
    "print(\"Before Modifying: \")\n",
    "\n",
    "csv_file = pd.read_csv(r'D:\\Users\\Rupam B\\Downloads/iris.csv')\n",
    "print(csv_file.head())\n",
    "\n",
    "print(\"\\n\")\n",
    "print(\"After Modifying: \")\n",
    "\n",
    "#rows\n",
    "csv_file = csv_file.drop(index=3)\n",
    "#column\n",
    "csv_file = csv_file.drop(columns = csv_file.columns[2])\n",
    "\n",
    "print(csv_file.head())"
   ]
  },
  {
   "cell_type": "code",
   "execution_count": 49,
   "metadata": {},
   "outputs": [
    {
     "name": "stdout",
     "output_type": "stream",
     "text": [
      "   Employee_ID     Name Department  Age  Salary  Years_of_experience  \\\n",
      "0          101    Alice         HR   29   50000                    4   \n",
      "1          102      Bob         IT   34   70000                    8   \n",
      "2          103  Charlie         IT   41   65000                   10   \n",
      "3          104    Diana  Marketing   28   55000                    3   \n",
      "4          105   Edward      Sales   38   60000                   12   \n",
      "\n",
      "  Joining_Date  Gender  Bonus  Rating  \n",
      "0   2020-03-15  Female   5000     4.5  \n",
      "1   2017-07-19    Male   7000     4.0  \n",
      "2   2013-06-01    Male   6000     3.8  \n",
      "3   2021-02-10  Female   4500     4.7  \n",
      "4   2010-11-25    Male   5000     3.5  \n",
      "\n",
      "\n",
      "Data saved to employes.csv\n"
     ]
    }
   ],
   "source": [
    "# Create a sample dataset (employees.csv) containing information about employees in a company. \n",
    "import pandas as pd\n",
    "\n",
    "dataSet = {\n",
    "    \"Employee_ID\" : [101, 102, 103, 104, 105],\n",
    "    \"Name\" : [\"Alice\", \"Bob\", \"Charlie\", \"Diana\", \"Edward\"],\n",
    "    \"Department\" : ['HR', 'IT' ,'IT' ,'Marketing' ,'Sales'],\n",
    "    \"Age\" : [29, 34, 41, 28, 38],\n",
    "    \"Salary\" : [50000, 70000, 65000, 55000, 60000],\n",
    "    \"Years_of_experience\" : [4, 8, 10, 3, 12],\n",
    "    \"Joining_Date\" : [\"2020-03-15\", \"2017-07-19\", \"2013-06-01\", \"2021-02-10\", \"2010-11-25\"],\n",
    "    \"Gender\" : [\"Female\", \"Male\", \"Male\", \"Female\", \"Male\"],\n",
    "    \"Bonus\" : [5000, 7000, 6000, 4500, 5000],\n",
    "    \"Rating\" : [4.5, 4.0, 3.8, 4.7, 3.5],\n",
    "}\n",
    "df = pd.DataFrame(dataSet)\n",
    "print(df)\n",
    "print(\"\\n\")\n",
    "df.to_csv(\"employes.csv\", index=False)\n",
    "print(\"Data saved to employes.csv\")\n"
   ]
  },
  {
   "cell_type": "code",
   "execution_count": 6,
   "metadata": {},
   "outputs": [
    {
     "name": "stdout",
     "output_type": "stream",
     "text": [
      "Shape:  (5, 10)\n"
     ]
    }
   ],
   "source": [
    "#a) Shape (number of rows and columns) of the DataFrame. \n",
    "print(\"Shape: \", df.shape)"
   ]
  },
  {
   "cell_type": "code",
   "execution_count": 9,
   "metadata": {},
   "outputs": [
    {
     "name": "stdout",
     "output_type": "stream",
     "text": [
      "<class 'pandas.core.frame.DataFrame'>\n",
      "RangeIndex: 5 entries, 0 to 4\n",
      "Data columns (total 10 columns):\n",
      " #   Column               Non-Null Count  Dtype  \n",
      "---  ------               --------------  -----  \n",
      " 0   Employee_ID          5 non-null      int64  \n",
      " 1   Name                 5 non-null      object \n",
      " 2   Department           5 non-null      object \n",
      " 3   Age                  5 non-null      int64  \n",
      " 4   Salary               5 non-null      int64  \n",
      " 5   Years_of_experience  5 non-null      int64  \n",
      " 6   Joining_Date         5 non-null      object \n",
      " 7   Gender               5 non-null      object \n",
      " 8   Bonus                5 non-null      int64  \n",
      " 9   Rating               5 non-null      float64\n",
      "dtypes: float64(1), int64(5), object(4)\n",
      "memory usage: 532.0+ bytes\n"
     ]
    }
   ],
   "source": [
    "# b) Summary of the DataFrame that includes the data types and non-null counts for  each column. \n",
    "summary = df.info()"
   ]
  },
  {
   "cell_type": "code",
   "execution_count": 11,
   "metadata": {},
   "outputs": [
    {
     "name": "stdout",
     "output_type": "stream",
     "text": [
      "       Employee_ID        Age       Salary  Years_of_experience   Bonus  \\\n",
      "count     5.000000   5.000000      5.00000             5.000000     5.0   \n",
      "mean    103.000000  34.000000  60000.00000             7.400000  5500.0   \n",
      "std       1.581139   5.612486   7905.69415             3.847077  1000.0   \n",
      "min     101.000000  28.000000  50000.00000             3.000000  4500.0   \n",
      "25%     102.000000  29.000000  55000.00000             4.000000  5000.0   \n",
      "50%     103.000000  34.000000  60000.00000             8.000000  5000.0   \n",
      "75%     104.000000  38.000000  65000.00000            10.000000  6000.0   \n",
      "max     105.000000  41.000000  70000.00000            12.000000  7000.0   \n",
      "\n",
      "         Rating  \n",
      "count  5.000000  \n",
      "mean   4.100000  \n",
      "std    0.494975  \n",
      "min    3.500000  \n",
      "25%    3.800000  \n",
      "50%    4.000000  \n",
      "75%    4.500000  \n",
      "max    4.700000  \n"
     ]
    }
   ],
   "source": [
    "#c) Generate descriptive statistics. \n",
    "stats = df.describe()\n",
    "print(stats)"
   ]
  },
  {
   "cell_type": "code",
   "execution_count": 15,
   "metadata": {},
   "outputs": [
    {
     "name": "stdout",
     "output_type": "stream",
     "text": [
      "   Employee_ID     Name Department  Age  Salary  Years_of_experience  \\\n",
      "0          101    Alice         HR   29   50000                    4   \n",
      "1          102      Bob         IT   34   70000                    8   \n",
      "2          103  Charlie         IT   41   65000                   10   \n",
      "3          104    Diana  Marketing   28   55000                    3   \n",
      "4          105   Edward      Sales   38   60000                   12   \n",
      "\n",
      "  Joining_Date  Gender  Bonus  Rating  \n",
      "0   2020-03-15  Female   5000     4.5  \n",
      "1   2017-07-19    Male   7000     4.0  \n",
      "2   2013-06-01    Male   6000     3.8  \n",
      "3   2021-02-10  Female   4500     4.7  \n",
      "4   2010-11-25    Male   5000     3.5  \n",
      "\n",
      "\n",
      "   Employee_ID     Name Department  Age  Salary  Years_of_experience  \\\n",
      "2          103  Charlie         IT   41   65000                   10   \n",
      "3          104    Diana  Marketing   28   55000                    3   \n",
      "4          105   Edward      Sales   38   60000                   12   \n",
      "\n",
      "  Joining_Date  Gender  Bonus  Rating  \n",
      "2   2013-06-01    Male   6000     3.8  \n",
      "3   2021-02-10  Female   4500     4.7  \n",
      "4   2010-11-25    Male   5000     3.5  \n"
     ]
    }
   ],
   "source": [
    "#d) Display the first 5 rows and last 3 rows of the dataset.\n",
    "\n",
    "print(df.head()) #first 5 rows\n",
    "print(\"\\n\")\n",
    "print(df.tail(3)) #last 3 rows"
   ]
  },
  {
   "cell_type": "code",
   "execution_count": 24,
   "metadata": {},
   "outputs": [
    {
     "name": "stdout",
     "output_type": "stream",
     "text": [
      "Avg:  60000.0\n",
      "Total Bonus:  27500\n",
      "Youngest Employee Age:  28\n",
      "Highest performance rating: :  4.7\n"
     ]
    }
   ],
   "source": [
    "#e) Calculate the following statistics from the dataset:\n",
    "\n",
    "# 1) The average salary of employees. \n",
    "print(\"Avg: \", df[\"Salary\"].mean())\n",
    "# 2) The total bonus paid to all employees.  \n",
    "print(\"Total Bonus: \", df[\"Bonus\"].sum())\n",
    "# 3) The youngest employee's age. \n",
    "print(\"Youngest Employee Age: \", df[\"Age\"].min())\n",
    "# 4) The highest performance rating \n",
    "print(\"Highest performance rating: : \", df[\"Rating\"].max())"
   ]
  },
  {
   "cell_type": "code",
   "execution_count": 27,
   "metadata": {},
   "outputs": [
    {
     "name": "stdout",
     "output_type": "stream",
     "text": [
      "Sorted DataFrame:\n",
      "    Employee_ID     Name Department  Age  Salary  Years_of_experience  \\\n",
      "1          102      Bob         IT   34   70000                    8   \n",
      "2          103  Charlie         IT   41   65000                   10   \n",
      "4          105   Edward      Sales   38   60000                   12   \n",
      "3          104    Diana  Marketing   28   55000                    3   \n",
      "0          101    Alice         HR   29   50000                    4   \n",
      "\n",
      "  Joining_Date  Gender  Bonus  Rating  \n",
      "1   2017-07-19    Male   7000     4.0  \n",
      "2   2013-06-01    Male   6000     3.8  \n",
      "4   2010-11-25    Male   5000     3.5  \n",
      "3   2021-02-10  Female   4500     4.7  \n",
      "0   2020-03-15  Female   5000     4.5  \n"
     ]
    }
   ],
   "source": [
    "sorted_frame = df.sort_values('Salary', ascending=False)\n",
    "print(\"Sorted DataFrame:\\n\", sorted_frame)\n"
   ]
  },
  {
   "cell_type": "code",
   "execution_count": 29,
   "metadata": {},
   "outputs": [
    {
     "name": "stdout",
     "output_type": "stream",
     "text": [
      "   Rating Performance\n",
      "0     4.5        Good\n",
      "1     4.0        Good\n",
      "2     3.8     Average\n",
      "3     4.7        Good\n",
      "4     3.5     Average\n"
     ]
    }
   ],
   "source": [
    "#g) Add a new column that categorizes employees based on their performance rating: \n",
    "def performance(rating):\n",
    "    if rating < 4.0:\n",
    "        return \"Average\"\n",
    "    elif rating >=4.0:\n",
    "        return \"Good\"\n",
    "    elif rating >=4.5:\n",
    "        return \"Excellent\"\n",
    "    else:\n",
    "        return \"Need Improvement\"\n",
    "    \n",
    "df[\"Performance\"] = df[\"Rating\"].apply(performance)\n",
    "\n",
    "print(df[[\"Rating\", \"Performance\"]])"
   ]
  },
  {
   "cell_type": "code",
   "execution_count": 34,
   "metadata": {},
   "outputs": [
    {
     "name": "stdout",
     "output_type": "stream",
     "text": [
      "   Employee_ID   Name  Department    Age  Salary  Years_of_experience  \\\n",
      "0        False  False       False  False   False                False   \n",
      "1        False  False       False  False   False                False   \n",
      "2        False  False       False  False   False                False   \n",
      "3        False  False       False  False   False                False   \n",
      "4        False  False       False  False   False                False   \n",
      "\n",
      "   Joining_Date  Gender  Bonus  Rating  Performance  \n",
      "0         False   False  False   False        False  \n",
      "1         False   False  False   False        False  \n",
      "2         False   False  False   False        False  \n",
      "3         False   False  False   False        False  \n",
      "4         False   False  False   False        False  \n"
     ]
    }
   ],
   "source": [
    "#h) Identify missing values in the DataFrame.\n",
    "\n",
    "print(df.isnull())\n",
    "#True if missing value and vice versa\n",
    "\n",
    "#other ways\n",
    "print(\"\\n\")\n",
    "print(df.isnull().sum())"
   ]
  },
  {
   "cell_type": "code",
   "execution_count": 35,
   "metadata": {},
   "outputs": [
    {
     "name": "stdout",
     "output_type": "stream",
     "text": [
      "    ID     Name Department  Age  Salary  Years_of_experience Joining_Date  \\\n",
      "0  101    Alice         HR   29   50000                    4   2020-03-15   \n",
      "1  102      Bob         IT   34   70000                    8   2017-07-19   \n",
      "2  103  Charlie         IT   41   65000                   10   2013-06-01   \n",
      "3  104    Diana  Marketing   28   55000                    3   2021-02-10   \n",
      "4  105   Edward      Sales   38   60000                   12   2010-11-25   \n",
      "\n",
      "   Gender  Bonus  Rating Performance  \n",
      "0  Female   5000     4.5        Good  \n",
      "1    Male   7000     4.0        Good  \n",
      "2    Male   6000     3.8     Average  \n",
      "3  Female   4500     4.7        Good  \n",
      "4    Male   5000     3.5     Average  \n"
     ]
    }
   ],
   "source": [
    "#) Rename the Employee_ID column to ID. ]\n",
    "df.rename(columns={'Employee_ID': 'ID'}, inplace=True)\n",
    "print(df.head())"
   ]
  },
  {
   "cell_type": "code",
   "execution_count": 43,
   "metadata": {},
   "outputs": [
    {
     "name": "stdout",
     "output_type": "stream",
     "text": [
      "\n",
      "Employees with more than 5 years of experience or in IT:\n",
      "    ID     Name Department  Age  Salary  Years_of_experience Joining_Date  \\\n",
      "1  102      Bob         IT   34   70000                    8   2017-07-19   \n",
      "2  103  Charlie         IT   41   65000                   10   2013-06-01   \n",
      "4  105   Edward      Sales   38   60000                   12   2010-11-25   \n",
      "\n",
      "  Gender  Bonus  Rating Performance  \n",
      "1   Male   7000     4.0        Good  \n",
      "2   Male   6000     3.8     Average  \n",
      "4   Male   5000     3.5     Average  \n"
     ]
    }
   ],
   "source": [
    "#j) Find all employees who: \n",
    "# Find all employees who have more than 5 years of experience\n",
    "# Find all employees who belong to the IT department\n",
    "\n",
    "df_filtered = df[(df[\"Years_of_experience\"] > 5) | (df[\"Department\"] == \"IT\")]\n",
    "print(\"\\nEmployees with more than 5 years of experience or in IT:\")\n",
    "print(df_filtered)"
   ]
  },
  {
   "cell_type": "code",
   "execution_count": 45,
   "metadata": {},
   "outputs": [
    {
     "name": "stdout",
     "output_type": "stream",
     "text": [
      "\n",
      "Tax column:\n",
      "    ID     Name Department  Age  Salary  Years_of_experience Joining_Date  \\\n",
      "0  101    Alice         HR   29   50000                    4   2020-03-15   \n",
      "1  102      Bob         IT   34   70000                    8   2017-07-19   \n",
      "2  103  Charlie         IT   41   65000                   10   2013-06-01   \n",
      "3  104    Diana  Marketing   28   55000                    3   2021-02-10   \n",
      "4  105   Edward      Sales   38   60000                   12   2010-11-25   \n",
      "\n",
      "   Gender  Bonus  Rating Performance     Tax  \n",
      "0  Female   5000     4.5        Good  5000.0  \n",
      "1    Male   7000     4.0        Good  7000.0  \n",
      "2    Male   6000     3.8     Average  6500.0  \n",
      "3  Female   4500     4.7        Good  5500.0  \n",
      "4    Male   5000     3.5     Average  6000.0  \n"
     ]
    }
   ],
   "source": [
    "#k) Modify the dataset by adding a new column, Tax, which deducts 10% of the Salary.\n",
    "\n",
    "df[\"Tax\"] = df[\"Salary\"] * 0.10\n",
    "print(\"\\nTax column:\")\n",
    "print(df)\n"
   ]
  },
  {
   "cell_type": "code",
   "execution_count": 46,
   "metadata": {},
   "outputs": [
    {
     "name": "stdout",
     "output_type": "stream",
     "text": [
      "Modified dataset saved to Modified_employees.csv\n"
     ]
    }
   ],
   "source": [
    "#l) Save the modified DataFrame (with added columns) to a new CSV file. \n",
    "\n",
    "df.to_csv(\"Modified_employees.csv\", index=True)\n",
    "print(\"Modified dataset saved to Modified_employees.csv\")"
   ]
  }
 ],
 "metadata": {
  "kernelspec": {
   "display_name": "Python 3",
   "language": "python",
   "name": "python3"
  },
  "language_info": {
   "codemirror_mode": {
    "name": "ipython",
    "version": 3
   },
   "file_extension": ".py",
   "mimetype": "text/x-python",
   "name": "python",
   "nbconvert_exporter": "python",
   "pygments_lexer": "ipython3",
   "version": "3.13.1"
  }
 },
 "nbformat": 4,
 "nbformat_minor": 2
}
